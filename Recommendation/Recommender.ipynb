{
 "cells": [
  {
   "cell_type": "code",
   "execution_count": 87,
   "id": "a5294cd2",
   "metadata": {},
   "outputs": [],
   "source": [
    "from pyspark.sql import SparkSession"
   ]
  },
  {
   "cell_type": "code",
   "execution_count": 88,
   "id": "96fd2abd",
   "metadata": {},
   "outputs": [],
   "source": [
    "spark = SparkSession.builder.appName('Recommendations').getOrCreate()"
   ]
  },
  {
   "cell_type": "code",
   "execution_count": 102,
   "id": "be7507ad",
   "metadata": {},
   "outputs": [
    {
     "name": "stdout",
     "output_type": "stream",
     "text": [
      "+------+-------+------+---------+\n",
      "|userId|movieId|rating|timestamp|\n",
      "+------+-------+------+---------+\n",
      "|     1|      1|     4|964982703|\n",
      "|     1|      3|     4|964981247|\n",
      "|     1|      6|     4|964982224|\n",
      "|     1|     47|     5|964983815|\n",
      "|     1|     50|     5|964982931|\n",
      "|     1|     70|     3|964982400|\n",
      "|     1|    101|     5|964980868|\n",
      "|     1|    110|     4|964982176|\n",
      "|     1|    151|     5|964984041|\n",
      "|     1|    157|     5|964984100|\n",
      "|     1|    163|     5|964983650|\n",
      "|     1|    216|     5|964981208|\n",
      "|     1|    223|     3|964980985|\n",
      "|     1|    231|     5|964981179|\n",
      "|     1|    235|     4|964980908|\n",
      "|     1|    260|     5|964981680|\n",
      "|     1|    296|     3|964982967|\n",
      "|     1|    316|     3|964982310|\n",
      "|     1|    333|     5|964981179|\n",
      "|     1|    349|     4|964982563|\n",
      "+------+-------+------+---------+\n",
      "only showing top 20 rows\n",
      "\n"
     ]
    }
   ],
   "source": [
    "movies = spark.read.csv(\"movies.csv\",header=True)\n",
    "ratings = spark.read.csv(\"ratings.csv\",header=True)\n",
    "ratings = ratings.withColumn(\"userId\",col(\"userId\").cast(\"int\"))\n",
    "ratings = ratings.withColumn(\"movieId\",col(\"movieId\").cast(\"int\"))\n",
    "ratings = ratings.withColumn(\"rating\",col(\"rating\").cast(\"int\"))\n",
    "ratings.show()"
   ]
  },
  {
   "cell_type": "code",
   "execution_count": 103,
   "id": "1136ab3a",
   "metadata": {},
   "outputs": [
    {
     "name": "stdout",
     "output_type": "stream",
     "text": [
      "+-------+------+------+---------+--------------------+--------------------+\n",
      "|movieId|userId|rating|timestamp|               title|              genres|\n",
      "+-------+------+------+---------+--------------------+--------------------+\n",
      "|      1|     1|     4|964982703|    Toy Story (1995)|Adventure|Animati...|\n",
      "|      3|     1|     4|964981247|Grumpier Old Men ...|      Comedy|Romance|\n",
      "|      6|     1|     4|964982224|         Heat (1995)|Action|Crime|Thri...|\n",
      "|     47|     1|     5|964983815|Seven (a.k.a. Se7...|    Mystery|Thriller|\n",
      "|     50|     1|     5|964982931|Usual Suspects, T...|Crime|Mystery|Thr...|\n",
      "|     70|     1|     3|964982400|From Dusk Till Da...|Action|Comedy|Hor...|\n",
      "|    101|     1|     5|964980868|Bottle Rocket (1996)|Adventure|Comedy|...|\n",
      "|    110|     1|     4|964982176|   Braveheart (1995)|    Action|Drama|War|\n",
      "|    151|     1|     5|964984041|      Rob Roy (1995)|Action|Drama|Roma...|\n",
      "|    157|     1|     5|964984100|Canadian Bacon (1...|          Comedy|War|\n",
      "|    163|     1|     5|964983650|    Desperado (1995)|Action|Romance|We...|\n",
      "|    216|     1|     5|964981208|Billy Madison (1995)|              Comedy|\n",
      "|    223|     1|     3|964980985|       Clerks (1994)|              Comedy|\n",
      "|    231|     1|     5|964981179|Dumb & Dumber (Du...|    Adventure|Comedy|\n",
      "|    235|     1|     4|964980908|      Ed Wood (1994)|        Comedy|Drama|\n",
      "|    260|     1|     5|964981680|Star Wars: Episod...|Action|Adventure|...|\n",
      "|    296|     1|     3|964982967| Pulp Fiction (1994)|Comedy|Crime|Dram...|\n",
      "|    316|     1|     3|964982310|     Stargate (1994)|Action|Adventure|...|\n",
      "|    333|     1|     5|964981179|    Tommy Boy (1995)|              Comedy|\n",
      "|    349|     1|     4|964982563|Clear and Present...|Action|Crime|Dram...|\n",
      "+-------+------+------+---------+--------------------+--------------------+\n",
      "only showing top 20 rows\n",
      "\n"
     ]
    }
   ],
   "source": [
    "movie_ratings = ratings.join(movies, ['movieId'], 'left')\n",
    "movie_ratings.show()"
   ]
  },
  {
   "cell_type": "code",
   "execution_count": 104,
   "id": "924113cc",
   "metadata": {},
   "outputs": [],
   "source": [
    "def get_mat_sparsity(ratings):\n",
    "    # Count the total number of ratings in the dataset\n",
    "    count_nonzero = ratings.select(\"rating\").count()\n",
    "\n",
    "    # Count the number of distinct userIds and distinct movieIds\n",
    "    total_elements = ratings.select(\"userId\").distinct().count() * ratings.select(\"movieId\").distinct().count()\n",
    "\n",
    "    # Divide the numerator by the denominator\n",
    "    sparsity = (1.0 - (count_nonzero *1.0)/total_elements)*100\n",
    "    print(\"The ratings dataframe is \", \"%.2f\" % sparsity + \"% sparse.\")"
   ]
  },
  {
   "cell_type": "code",
   "execution_count": 105,
   "id": "2bc56856",
   "metadata": {},
   "outputs": [
    {
     "name": "stdout",
     "output_type": "stream",
     "text": [
      "The ratings dataframe is  98.30% sparse.\n"
     ]
    }
   ],
   "source": [
    "get_mat_sparsity(ratings)"
   ]
  },
  {
   "cell_type": "code",
   "execution_count": 106,
   "id": "8c539b9a",
   "metadata": {},
   "outputs": [],
   "source": [
    "# Create test and train set\n",
    "(train, test) = ratings.randomSplit([0.8, 0.2], seed = 2020)"
   ]
  },
  {
   "cell_type": "code",
   "execution_count": 107,
   "id": "0497823f",
   "metadata": {},
   "outputs": [],
   "source": [
    "from pyspark.sql.functions import lit, col\n",
    "\n",
    "def get_binary_data(ratings):\n",
    "    ratings = ratings.withColumn('binary', lit(1))\n",
    "    userIds = ratings.select(col(\"userId\").cast(\"int\")).distinct()\n",
    "    movieIds = ratings.select(\"movieId\").distinct()\n",
    "\n",
    "    user_movie = userIds.crossJoin(movieIds).join(ratings, ['userId', 'movieId'], \"left\")\n",
    "    user_movie = user_movie.select(['userId', 'movieId', 'binary']).fillna(0)\n",
    "    return user_movie\n",
    "\n",
    "user_movie = get_binary_data(ratings)"
   ]
  },
  {
   "cell_type": "code",
   "execution_count": 108,
   "id": "96cc6678",
   "metadata": {},
   "outputs": [
    {
     "name": "stdout",
     "output_type": "stream",
     "text": [
      "+------+-------+------+\n",
      "|userId|movieId|binary|\n",
      "+------+-------+------+\n",
      "|   148|   1580|     0|\n",
      "|   463|   1580|     0|\n",
      "|   471|   1580|     0|\n",
      "|   496|   1580|     0|\n",
      "|   243|   1580|     0|\n",
      "|   392|   1580|     0|\n",
      "|   540|   1580|     0|\n",
      "|    31|   1580|     0|\n",
      "|   516|   1580|     0|\n",
      "|    85|   1580|     0|\n",
      "|   137|   1580|     1|\n",
      "|   251|   1580|     0|\n",
      "|   451|   1580|     0|\n",
      "|   580|   1580|     1|\n",
      "|    65|   1580|     0|\n",
      "|   458|   1580|     0|\n",
      "|    53|   1580|     0|\n",
      "|   255|   1580|     0|\n",
      "|   481|   1580|     0|\n",
      "|   588|   1580|     0|\n",
      "+------+-------+------+\n",
      "only showing top 20 rows\n",
      "\n",
      "root\n",
      " |-- userId: integer (nullable = true)\n",
      " |-- movieId: integer (nullable = true)\n",
      " |-- binary: integer (nullable = true)\n",
      "\n"
     ]
    }
   ],
   "source": [
    "user_movie.show()\n",
    "user_movie.printSchema()"
   ]
  },
  {
   "cell_type": "code",
   "execution_count": 109,
   "id": "5a44d56f",
   "metadata": {},
   "outputs": [],
   "source": [
    "from pyspark.ml.evaluation import RegressionEvaluator\n",
    "from pyspark.ml.recommendation import ALS\n",
    "from pyspark.ml.tuning import ParamGridBuilder, CrossValidator\n",
    "# Create ALS model\n",
    "als = ALS(\n",
    "         userCol=\"userId\", \n",
    "         itemCol=\"movieId\",\n",
    "         ratingCol=\"rating\", \n",
    "         nonnegative = True, \n",
    "         implicitPrefs = False,\n",
    "         coldStartStrategy=\"drop\"\n",
    ")"
   ]
  },
  {
   "cell_type": "code",
   "execution_count": 110,
   "id": "2d2d76fb",
   "metadata": {},
   "outputs": [],
   "source": [
    "# Import the requisite packages\n",
    "from pyspark.ml.tuning import ParamGridBuilder, CrossValidator\n",
    "from pyspark.ml.evaluation import RegressionEvaluator"
   ]
  },
  {
   "cell_type": "code",
   "execution_count": 111,
   "id": "9ae8ad41",
   "metadata": {},
   "outputs": [],
   "source": [
    "# Add hyperparameters and their respective values to param_grid\n",
    "param_grid = ParamGridBuilder() \\\n",
    "            .addGrid(als.rank, [10, 50, 100, 150]) \\\n",
    "            .addGrid(als.regParam, [.01, .05, .1, .15]) \\\n",
    "            .build()"
   ]
  },
  {
   "cell_type": "code",
   "execution_count": 112,
   "id": "155ec74a",
   "metadata": {},
   "outputs": [
    {
     "name": "stdout",
     "output_type": "stream",
     "text": [
      "Num models to be tested:  16\n"
     ]
    }
   ],
   "source": [
    "# Define evaluator as RMSE and print length of evaluator\n",
    "evaluator = RegressionEvaluator(\n",
    "           metricName=\"rmse\", \n",
    "           labelCol=\"rating\", \n",
    "           predictionCol=\"prediction\") \n",
    "print (\"Num models to be tested: \", len(param_grid))"
   ]
  },
  {
   "cell_type": "code",
   "execution_count": 113,
   "id": "d7b29a25",
   "metadata": {},
   "outputs": [],
   "source": [
    "# Build cross validation using CrossValidator\n",
    "cv = CrossValidator(estimator=als, estimatorParamMaps=param_grid, evaluator=evaluator, numFolds=5)"
   ]
  },
  {
   "cell_type": "code",
   "execution_count": 114,
   "id": "d5c43c64",
   "metadata": {},
   "outputs": [
    {
     "name": "stdout",
     "output_type": "stream",
     "text": [
      "0.9133692135300809\n"
     ]
    }
   ],
   "source": [
    "#Fit cross validator to the 'train' dataset\n",
    "model = cv.fit(train)\n",
    "#Extract best model from the cv model above\n",
    "best_model = model.bestModel\n",
    "# View the predictions\n",
    "test_predictions = best_model.transform(test)\n",
    "RMSE = evaluator.evaluate(test_predictions)\n",
    "print(RMSE)"
   ]
  },
  {
   "cell_type": "code",
   "execution_count": 124,
   "id": "0cdcd05c",
   "metadata": {},
   "outputs": [
    {
     "name": "stdout",
     "output_type": "stream",
     "text": [
      "+------+--------------------+\n",
      "|userId|     recommendations|\n",
      "+------+--------------------+\n",
      "|     1|[{171495, 5.88727...|\n",
      "|     2|[{33649, 4.774651...|\n",
      "|     3|[{6835, 4.8575363...|\n",
      "|     4|[{3851, 4.84623},...|\n",
      "|     5|[{5490, 4.536904}...|\n",
      "|     6|[{33649, 4.893554...|\n",
      "|     7|[{5490, 4.321935}...|\n",
      "|     8|[{171495, 4.86760...|\n",
      "|     9|[{171495, 4.82675...|\n",
      "|    10|[{8869, 4.390154}...|\n",
      "|    11|[{171495, 5.00620...|\n",
      "|    12|[{67618, 5.795717...|\n",
      "|    13|[{33649, 5.022939...|\n",
      "|    14|[{171495, 4.61810...|\n",
      "|    15|[{27611, 4.407625...|\n",
      "|    16|[{33649, 4.283776...|\n",
      "|    17|[{171495, 4.81478...|\n",
      "|    18|[{171495, 4.63681...|\n",
      "|    19|[{33649, 4.019057...|\n",
      "|    20|[{132333, 4.87325...|\n",
      "+------+--------------------+\n",
      "only showing top 20 rows\n",
      "\n"
     ]
    }
   ],
   "source": [
    "# Generate n Recommendations for all users\n",
    "recommendations = best_model.recommendForAllUsers(5)\n",
    "recommendations.show()"
   ]
  },
  {
   "cell_type": "code",
   "execution_count": 125,
   "id": "39117af5",
   "metadata": {},
   "outputs": [],
   "source": [
    "from pyspark.sql.functions import explode\n",
    "\n",
    "recommendations = recommendations\\\n",
    "    .withColumn(\"rec_exp\", explode(\"recommendations\"))\\\n",
    "    .select('userId', col(\"rec_exp.movieId\"), col(\"rec_exp.rating\"))"
   ]
  },
  {
   "cell_type": "code",
   "execution_count": 126,
   "id": "b1a65c89",
   "metadata": {},
   "outputs": [
    {
     "name": "stdout",
     "output_type": "stream",
     "text": [
      "+------+-------+---------+\n",
      "|userId|movieId|   rating|\n",
      "+------+-------+---------+\n",
      "|     1| 171495|5.8872743|\n",
      "|     1|  33649|5.7832103|\n",
      "|     1| 132333|5.6778646|\n",
      "|     1|   5490|5.6778646|\n",
      "|     1|  72171|5.6760664|\n",
      "+------+-------+---------+\n",
      "\n"
     ]
    }
   ],
   "source": [
    "recommendations.limit(5).show()"
   ]
  },
  {
   "cell_type": "code",
   "execution_count": null,
   "id": "4aad49b1",
   "metadata": {},
   "outputs": [],
   "source": []
  }
 ],
 "metadata": {
  "kernelspec": {
   "display_name": "Python 3",
   "language": "python",
   "name": "python3"
  },
  "language_info": {
   "codemirror_mode": {
    "name": "ipython",
    "version": 3
   },
   "file_extension": ".py",
   "mimetype": "text/x-python",
   "name": "python",
   "nbconvert_exporter": "python",
   "pygments_lexer": "ipython3",
   "version": "3.9.4"
  }
 },
 "nbformat": 4,
 "nbformat_minor": 5
}
